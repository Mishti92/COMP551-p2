{
 "cells": [
  {
   "cell_type": "code",
   "execution_count": 1,
   "metadata": {
    "collapsed": true
   },
   "outputs": [],
   "source": [
    "import sys, re\n",
    "import numpy as np\n",
    "import pandas as pd\n",
    "from scipy import sparse\n",
    "from sklearn.feature_extraction.text import CountVectorizer\n",
    "from sklearn.feature_extraction.text import TfidfTransformer\n",
    "import nltk\n",
    "import re\n",
    "from nltk.tokenize import word_tokenize\n",
    "from nltk.corpus import stopwords\n",
    "from nltk.stem.porter import PorterStemmer\n",
    "import string\n",
    "import HTMLParser\n",
    "from nltk import word_tokenize\n",
    "from sklearn.cross_validation import train_test_split, cross_val_score\n",
    "from sklearn.grid_search import GridSearchCV\n",
    "import matplotlib.pyplot as plt"
   ]
  },
  {
   "cell_type": "code",
   "execution_count": 2,
   "metadata": {
    "collapsed": true
   },
   "outputs": [],
   "source": [
    "final = False\n",
    "\n",
    "lowercase = True\n",
    "lemmatize = False\n",
    "tokenize = False\n",
    "split = True\n",
    "n=3\n",
    "splitratio = 0.8\n",
    "\n",
    "stemmer = PorterStemmer()"
   ]
  },
  {
   "cell_type": "code",
   "execution_count": 3,
   "metadata": {
    "collapsed": true
   },
   "outputs": [],
   "source": [
    "def split_test_train_data(X,Y,splitratio):\n",
    "    split = int(splitratio* X.shape[0])\n",
    "    X_train, X_test = X[:split], X[split:]\n",
    "    y_train, y_test = Y[:split], Y[split:]\n",
    "    return X_train, X_test, y_train, y_test\n",
    "\n",
    "def cleanHtml(raw_html):\n",
    "    cleantext = re.sub(r\"(?:\\@|https?\\://)\\S+\", \"\", raw_html)\n",
    "    return cleantext\n",
    "\n",
    "def cleanSpeaker(text):\n",
    "    cleanr = re.compile('<.*?>')\n",
    "    cleantext = re.sub(cleanr, '', text)\n",
    "    return cleantext\n",
    "\n",
    "def removeNonAscii(text):\n",
    "    return re.sub(r'[^\\x00-\\x7F]+',' ', text)\n",
    "\n",
    "def remStopPuncEncodings(tokens):\n",
    "    punctuation = list(string.punctuation)\n",
    "    htmlEncodings = [ '&quot', '&amp', '&lt','&gt', 'com', 'org']\n",
    "    stoplist = set(stopwords.words('english') +  punctuation + htmlEncodings )\n",
    "    s = [w for w in tokens if not w in stoplist]\n",
    "    return s\n",
    "\n",
    "def stem_tokens(tokens, stemmer):\n",
    "    stemmed =[]\n",
    "    for item in tokens:\n",
    "        stemmed.append(stemmer.stem(item))\n",
    "    return stemmed\n",
    "\n",
    "def removeAposFollowed(text):\n",
    "    return re.sub(r\"'.\", \"\", text)\n",
    "\n",
    "def stripSplitText(text):\n",
    "    text = text.strip()\n",
    "    return text.split()\n",
    "\n",
    "def removeDigit(text):\n",
    "    return filter(lambda c: not c.isdigit(), text)\n",
    "\n",
    "def removeAtUser(text):\n",
    "    return ' '.join(re.sub(\"(@[A-Za-z0-9]+)|([^0-9A-Za-z \\t])|(\\w+:\\/\\/\\S+)\",\" \",text).split())\n",
    "\n",
    "def processText(text):\n",
    "    text = text.encode('ascii', 'ignore')\n",
    "    text = removeAtUser(text)\n",
    "    text = removeAposFollowed(text)\n",
    "    text = removeDigit(text)\n",
    "    text = cleanSpeaker(text)\n",
    "    if tokenize:\n",
    "        tokens = word_tokenize(text)\n",
    "    elif split:\n",
    "        tokens = stripSplitText(text)\n",
    "    tokens = remStopPuncEncodings(tokens)\n",
    "    string = (' ').join(tokens)\n",
    "    return string"
   ]
  },
  {
   "cell_type": "code",
   "execution_count": 4,
   "metadata": {
    "collapsed": true
   },
   "outputs": [],
   "source": [
    "# evaluation code\n",
    "\n",
    "from sklearn.metrics import confusion_matrix,classification_report\n",
    "\n",
    "\n",
    "def accuracy(gold, predict):\n",
    "    assert len(gold) == len(predict)\n",
    "    corr = 0\n",
    "    for i in xrange(len(gold)):\n",
    "        if gold[i] == predict[i]:\n",
    "            corr += 1\n",
    "    acc = float(corr) / len(gold)\n",
    "    print 'Accuracy %d / %d = %.4f' % (corr, len(gold), acc)\n",
    "        \n",
    "def con_class_matrix(gold,predict):\n",
    "    cm = confusion_matrix(gold, predict)\n",
    "    target_names =['nfl','movies','hockey','news','worldnews','politics','nba','soccer']\n",
    "    print '\\n Confusion Matrix:\\n', cm\n",
    "    print '\\nClasification report:\\n', classification_report(gold,predict,target_names=target_names)\n",
    "    # Show confusion matrix in a separate window\n",
    "    plt.matshow(cm)\n",
    "    plt.title('Confusion matrix')\n",
    "    plt.colorbar()\n",
    "    plt.ylabel('True label')\n",
    "    plt.xlabel('Predicted label')\n",
    "    plt.show()"
   ]
  },
  {
   "cell_type": "code",
   "execution_count": 5,
   "metadata": {
    "collapsed": false
   },
   "outputs": [
    {
     "name": "stdout",
     "output_type": "stream",
     "text": [
      "Reading files........................\n"
     ]
    }
   ],
   "source": [
    "print \"Reading files........................\",\n",
    "sys.stdout.flush()\n",
    "train_inp = pd.read_csv('data/train_input.csv').values\n",
    "test_inp = pd.read_csv('data/test_input.csv').values\n",
    "train_label = pd.read_csv('data/train_output.csv').values"
   ]
  },
  {
   "cell_type": "code",
   "execution_count": 6,
   "metadata": {
    "collapsed": false
   },
   "outputs": [
    {
     "name": "stdout",
     "output_type": "stream",
     "text": [
      "Preprocessing Text...................\n",
      "Done.\n"
     ]
    }
   ],
   "source": [
    "print \"Preprocessing Text...................\"\n",
    "size = train_inp.shape[0]\n",
    "for i in range(size):\n",
    "    train_inp[i][1] = processText(train_inp[i][1])\n",
    "\n",
    "test_size = test_inp.shape[0]\n",
    "for i in range(test_size):\n",
    "    test_inp[i][1] = processText(test_inp[i][1])\n",
    "\n",
    "print \"Done.\""
   ]
  },
  {
   "cell_type": "code",
   "execution_count": 7,
   "metadata": {
    "collapsed": false
   },
   "outputs": [],
   "source": [
    "# Split into training and validation sets\n",
    "v_split = int(0.9 * train_inp.shape[0])\n",
    "ids_trn = train_inp[:v_split,0].astype(int)\n",
    "ids_val = train_inp[v_split:,0].astype(int)\n",
    "ids_all = train_inp[:,0].astype(int)\n",
    "ids_tst = test_inp[:,0].astype(int)\n",
    "\n",
    "trainX = train_inp[:v_split,1]\n",
    "valX = train_inp[v_split:,1]\n",
    "allX = train_inp[:,1]\n",
    "testX = test_inp[:,1]\n",
    "\n",
    "trainY = np.array(train_label[:v_split,1])[:,None]\n",
    "valY =  np.array(train_label[v_split:,1])[:,None]\n",
    "allY = np.array(train_label[:,1])[:,None]\n",
    "\n",
    "combinedTrainTest = np.hstack((allX, testX))"
   ]
  },
  {
   "cell_type": "code",
   "execution_count": 24,
   "metadata": {
    "collapsed": false
   },
   "outputs": [
    {
     "name": "stdout",
     "output_type": "stream",
     "text": [
      "Building vectorizer.................. Done.\n"
     ]
    }
   ],
   "source": [
    "print \"Building vectorizer..................\",\n",
    "sys.stdout.flush()\n",
    "vectorizer = CountVectorizer(stop_words='english',\n",
    "                             lowercase=True,\n",
    "                             max_features=8000,\n",
    "                             min_df=1,max_df=0.9)\n",
    "ng_vectorizer = CountVectorizer(ngram_range=(1,n),\n",
    "                                stop_words='english',\n",
    "                                lowercase=True,\n",
    "                                max_features=8000,\n",
    "                                min_df=1)\n",
    "print \"Done.\""
   ]
  },
  {
   "cell_type": "code",
   "execution_count": 25,
   "metadata": {
    "collapsed": false
   },
   "outputs": [
    {
     "name": "stdout",
     "output_type": "stream",
     "text": [
      "Building TF-IDF transformer.......... Done.\n"
     ]
    }
   ],
   "source": [
    "print \"Building TF-IDF transformer..........\",\n",
    "sys.stdout.flush()\n",
    "transformer = TfidfTransformer()\n",
    "print \"Done.\""
   ]
  },
  {
   "cell_type": "code",
   "execution_count": 26,
   "metadata": {
    "collapsed": false
   },
   "outputs": [
    {
     "name": "stdout",
     "output_type": "stream",
     "text": [
      "Extracting training features......... Done.\n"
     ]
    }
   ],
   "source": [
    "print \"Extracting training features.........\",\n",
    "sys.stdout.flush()\n",
    "trainXCounts = vectorizer.fit_transform(trainX)\n",
    "trainXCounts = sparse.hstack((trainXCounts,\n",
    "                              ng_vectorizer.fit_transform(trainX)))\n",
    "\n",
    "valXCounts = vectorizer.transform(valX)\n",
    "valXCounts = sparse.hstack((valXCounts,\n",
    "                              ng_vectorizer.transform(valX)))\n",
    "\n",
    "print \"Done.\""
   ]
  },
  {
   "cell_type": "code",
   "execution_count": 27,
   "metadata": {
    "collapsed": false
   },
   "outputs": [
    {
     "name": "stdout",
     "output_type": "stream",
     "text": [
      "Extracting testing features.......... Done.\n"
     ]
    }
   ],
   "source": [
    "print \"Extracting testing features..........\",\n",
    "sys.stdout.flush()\n",
    "vectorizer.fit(combinedTrainTest)\n",
    "ng_vectorizer.fit(combinedTrainTest)\n",
    "allXCounts = vectorizer.transform(allX)\n",
    "allXCounts = sparse.hstack((allXCounts,\n",
    "                              ng_vectorizer.transform(allX)))\n",
    "testXCounts = vectorizer.transform(testX)\n",
    "testXCounts = sparse.hstack((testXCounts,\n",
    "                              ng_vectorizer.transform(testX)))\n",
    "\n",
    "print \"Done.\""
   ]
  },
  {
   "cell_type": "code",
   "execution_count": 28,
   "metadata": {
    "collapsed": false
   },
   "outputs": [
    {
     "name": "stdout",
     "output_type": "stream",
     "text": [
      "Applying TF-IDF transform............ Done.\n"
     ]
    }
   ],
   "source": [
    "print \"Applying TF-IDF transform............\",\n",
    "sys.stdout.flush()\n",
    "trainX_tfidf = transformer.fit_transform(trainXCounts)\n",
    "valX_tfidf = transformer.transform(valXCounts)\n",
    "\n",
    "allX_tfidf = transformer.fit_transform(allXCounts)\n",
    "testX_tfidf = transformer.transform(testXCounts)\n",
    "print \"Done.\""
   ]
  },
  {
   "cell_type": "code",
   "execution_count": 29,
   "metadata": {
    "collapsed": false
   },
   "outputs": [],
   "source": [
    "X_trn = trainX_tfidf\n",
    "X_val = valX_tfidf\n",
    "X_all = allX_tfidf\n",
    "X_tst = testX_tfidf\n",
    "\n",
    "ids_trn, X_trn = X_trn[:,0].toarray().astype(int), X_trn[:,1:]\n",
    "ids_val, X_val = X_val[:,0].toarray().astype(int), X_val[:,1:]\n",
    "ids_all, X_all = X_all[:,0].toarray().astype(int), X_all[:,1:]\n",
    "ids_tst, X_tst = X_tst[:,0].toarray().astype(int), X_tst[:,1:]\n",
    "\n",
    "Y_trn = trainY.flatten()\n",
    "Y_val = valY.flatten()\n",
    "Y_all = allY.flatten()\n"
   ]
  },
  {
   "cell_type": "code",
   "execution_count": 31,
   "metadata": {
    "collapsed": false
   },
   "outputs": [],
   "source": [
    "from sklearn.neighbors import KNeighborsClassifier\n",
    "\n",
    "print \"Knn Classifier on Test Set\"\n",
    "model = KNeighborsClassifier()\n",
    "model.fit(X_trn,Y_trn)\n",
    "#makepredictions\n",
    "expected = Y_val\n",
    "predicted = model.predict(X_val)\n",
    "print \"   Validation set accuracy: \"\n",
    "accuracy(expected,predicted)\n",
    "con_class_matrix(expected,predicted)"
   ]
  },
  {
   "cell_type": "code",
   "execution_count": 41,
   "metadata": {
    "collapsed": false
   },
   "outputs": [
    {
     "name": "stdout",
     "output_type": "stream",
     "text": [
      "Logistic Regression Model on Test Set\n",
      "   Validation set accuracy: \n",
      "Accuracy 15162 / 16500 = 0.9189\n",
      "\n",
      " Confusion Matrix:\n",
      "[[1950   13   17   16   32    4   16    3]\n",
      " [   8 2226    5   20    2    4    4   12]\n",
      " [  25    9 1680    8   33    7    8    3]\n",
      " [   3   20    6 1677    6  204    4  156]\n",
      " [  32    7   31   15 1944    1   14    1]\n",
      " [   2    4    1  211    4 1643    2   40]\n",
      " [  30    5   12   10   11    1 2129   18]\n",
      " [   2   21    0  136    0   52   27 1913]]\n",
      "\n",
      "Clasification report:\n",
      "             precision    recall  f1-score   support\n",
      "\n",
      "        nfl       0.95      0.95      0.95      2051\n",
      "     movies       0.97      0.98      0.97      2281\n",
      "     hockey       0.96      0.95      0.95      1773\n",
      "       news       0.80      0.81      0.80      2076\n",
      "  worldnews       0.96      0.95      0.95      2045\n",
      "   politics       0.86      0.86      0.86      1907\n",
      "        nba       0.97      0.96      0.96      2216\n",
      "     soccer       0.89      0.89      0.89      2151\n",
      "\n",
      "avg / total       0.92      0.92      0.92     16500\n",
      "\n"
     ]
    },
    {
     "data": {
      "image/png": "[encoded data removed]",
      "text/plain": [
       "<matplotlib.figure.Figure at 0x7f350f5c7050>"
      ]
     },
     "metadata": {},
     "output_type": "display_data"
    }
   ],
   "source": [
    "from sklearn.linear_model import LogisticRegression\n",
    "\n",
    "print \"Logistic Regression Model on Test Set\"\n",
    "model = LogisticRegression(solver='lbfgs', penalty='l2',C=10)\n",
    "model.fit(X_trn,Y_trn)\n",
    "#makepredictions\n",
    "expected = Y_val\n",
    "predicted = model.predict(X_val)\n",
    "print \"   Validation set accuracy: \"\n",
    "accuracy(expected,predicted)\n",
    "con_class_matrix(expected,predicted)\n"
   ]
  },
  {
   "cell_type": "code",
   "execution_count": 28,
   "metadata": {
    "collapsed": false
   },
   "outputs": [
    {
     "name": "stdout",
     "output_type": "stream",
     "text": [
      "   Training on all data................. Done.\n",
      "Predictions on test file........................\n",
      "Done.\n"
     ]
    }
   ],
   "source": [
    "print \"   Training on all data.................\",\n",
    "sys.stdout.flush()\n",
    "model.fit(X_all, Y_all)\n",
    "print \"Done.\"\n",
    "\n",
    "\n",
    "print \"Predictions on test file........................\"\n",
    "sys.stdout.flush()\n",
    "predictTest = model.predict(X_tst)\n",
    "predict_file = pd.DataFrame(columns=['id','category'])\n",
    "predict_file.id= range(X_tst.shape[0])\n",
    "predict_file.category = predictTest\n",
    "\n",
    "\n",
    "predict_file.to_csv('predictions/Y_test_Logistic.csv',index=False)\n",
    "print \"Done.\""
   ]
  },
  {
   "cell_type": "code",
   "execution_count": 128,
   "metadata": {
    "collapsed": false
   },
   "outputs": [
    {
     "name": "stdout",
     "output_type": "stream",
     "text": [
      "0.90875 Accuracy on Kaggle DataSet\n"
     ]
    }
   ],
   "source": [
    "print '0.90875 Accuracy on Kaggle DataSet'"
   ]
  },
  {
   "cell_type": "code",
   "execution_count": 18,
   "metadata": {
    "collapsed": false
   },
   "outputs": [
    {
     "name": "stdout",
     "output_type": "stream",
     "text": [
      "Multinomial Naive Bayes Classifier on Test Set\n",
      "   Validation set accuracy: \n",
      "Accuracy 14854 / 16500 = 0.9002\n",
      "\n",
      " Confusion Matrix:\n",
      "[[1949   19   15   13   29    3   17    6]\n",
      " [   6 2209    4   28    1    3    9   21]\n",
      " [  35    8 1671   12   31    2   10    4]\n",
      " [   6   43    4 1551    7  281    3  181]\n",
      " [  30    8   21   29 1939    5   12    1]\n",
      " [   3    3    0  270    2 1567    1   61]\n",
      " [  14   11   15   16   11    4 2119   26]\n",
      " [   2   31    1  148    0   82   38 1849]]\n",
      "\n",
      "Clasification report:\n",
      "             precision    recall  f1-score   support\n",
      "\n",
      "        nfl       0.95      0.95      0.95      2051\n",
      "     movies       0.95      0.97      0.96      2281\n",
      "     hockey       0.97      0.94      0.95      1773\n",
      "       news       0.75      0.75      0.75      2076\n",
      "  worldnews       0.96      0.95      0.95      2045\n",
      "   politics       0.80      0.82      0.81      1907\n",
      "        nba       0.96      0.96      0.96      2216\n",
      "     soccer       0.86      0.86      0.86      2151\n",
      "\n",
      "avg / total       0.90      0.90      0.90     16500\n",
      "\n"
     ]
    },
    {
     "data": {
      "image/png": "[encoded data removed]",
      "text/plain": [
       "<matplotlib.figure.Figure at 0x7f352cfd5350>"
      ]
     },
     "metadata": {},
     "output_type": "display_data"
    }
   ],
   "source": [
    "from sklearn.naive_bayes import MultinomialNB\n",
    "\n",
    "print \"Multinomial Naive Bayes Classifier on Test Set\"\n",
    "model = MultinomialNB()\n",
    "model.fit(X_trn,Y_trn)\n",
    "#makepredictions\n",
    "expected = Y_val\n",
    "predicted = model.predict(X_val)\n",
    "print \"   Validation set accuracy: \"\n",
    "accuracy(expected,predicted)\n",
    "con_class_matrix(expected,predicted)"
   ]
  },
  {
   "cell_type": "code",
   "execution_count": 17,
   "metadata": {
    "collapsed": false
   },
   "outputs": [
    {
     "name": "stdout",
     "output_type": "stream",
     "text": [
      "Bernoulli Naive Bayes Classifier on Test Set\n",
      "   Validation set accuracy: \n",
      "Accuracy 15153 / 16500 = 0.9184\n",
      "\n",
      " Confusion Matrix:\n",
      "[[1950   12   15   20   27    2   22    3]\n",
      " [   7 2222    2   24    2    1    5   18]\n",
      " [  25   12 1676   12   31    2   12    3]\n",
      " [   3   30    3 1680    7  190    4  159]\n",
      " [  28    8   27   18 1947    2   14    1]\n",
      " [   2    3    0  221    4 1635    1   41]\n",
      " [  19   10   12   11    8    3 2136   17]\n",
      " [   1   21    0  131    0   61   30 1907]]\n",
      "\n",
      "Clasification report:\n",
      "             precision    recall  f1-score   support\n",
      "\n",
      "        nfl       0.96      0.95      0.95      2051\n",
      "     movies       0.96      0.97      0.97      2281\n",
      "     hockey       0.97      0.95      0.96      1773\n",
      "       news       0.79      0.81      0.80      2076\n",
      "  worldnews       0.96      0.95      0.96      2045\n",
      "   politics       0.86      0.86      0.86      1907\n",
      "        nba       0.96      0.96      0.96      2216\n",
      "     soccer       0.89      0.89      0.89      2151\n",
      "\n",
      "avg / total       0.92      0.92      0.92     16500\n",
      "\n"
     ]
    },
    {
     "data": {
      "image/png": "[encoded data removed]",
      "text/plain": [
       "<matplotlib.figure.Figure at 0x7f35344dc1d0>"
      ]
     },
     "metadata": {},
     "output_type": "display_data"
    }
   ],
   "source": [
    "from sklearn.naive_bayes import BernoulliNB\n",
    "\n",
    "print \"Bernoulli Naive Bayes Classifier on Test Set\"\n",
    "gmodel = BernoulliNB()\n",
    "model.fit(X_trn,Y_trn)\n",
    "#makepredictions\n",
    "expected = Y_val\n",
    "predicted = model.predict(X_val)\n",
    "print \"   Validation set accuracy: \"\n",
    "accuracy(expected,predicted)\n",
    "con_class_matrix(expected,predicted)"
   ]
  },
  {
   "cell_type": "code",
   "execution_count": null,
   "metadata": {
    "collapsed": true
   },
   "outputs": [],
   "source": [
    "print \"Decision Tree on Test Set\"\n",
    "#dt = DecisionTreeClassifier(min_samples_split=20, random_state=99)\n",
    "#dt.fit(X, y)\n",
    "model = tree.DecisionTreeClassifier(min_samples_split=20, random_state=99)\n",
    "model.fit(X_trn,Y_trn)\n",
    "#makepredictions\n",
    "expected = Y_val\n",
    "predicted = model.predict(X_val)\n",
    "print \"   Validation set accuracy: \"\n",
    "accuracy(expected,predicted)\n",
    "con_class_matrix(expected,predicted)"
   ]
  },
  {
   "cell_type": "code",
   "execution_count": 1,
   "metadata": {
    "collapsed": false
   },
   "outputs": [],
   "source": [
    "# print \"Grid Search on Naive Bayes.............\"\n",
    "\n",
    "# # cv=10, n_jobs=-1\n",
    "\n",
    "# parameters = {\n",
    "#     'vect__ngram_range': [(1, 1), (1, 2), (1, 3)],\n",
    "#     'clf__alpha': [1,0.1,0.01,0.001,0.0001,0.000001,0]\n",
    "# }\n",
    "\n",
    "# mnb_clf = Pipeline([('vect', CountVectorizer()), ('tfidf', TfidfTransformer(norm=u'l2', use_idf=True, smooth_idf=True,\n",
    "#                                                                             sublinear_tf=True)),\n",
    "#                      ('clf', MultinomialNB())])\n",
    "# # Train the model\n",
    "# mnb_clf = GridSearchCV(mnb_clf, parameters)\n",
    "# mnb_clf.fit(allX,allY.flatten())\n",
    "\n",
    "# print(\"\\nThe best parameter is:\")\n",
    "# print(mnb_clf.best_estimator_)\n",
    "\n",
    "# print(\"\\nGrid scores on Training Set:\")\n",
    "# for params, mean_score, scores in mnb_clf.grid_scores_:\n",
    "#     print \"%0.3f (+/-%0.03f) for %r\"%(mean_score, scores.std() / 2, params)\n",
    "\n",
    "    \n",
    "# print(\"\\nScore for Best Model.\")\n",
    "# print(mnb_clf.best_score_)"
   ]
  },
  {
   "cell_type": "code",
   "execution_count": 130,
   "metadata": {
    "collapsed": false
   },
   "outputs": [
    {
     "name": "stdout",
     "output_type": "stream",
     "text": [
      "   Training on all data................. Done.\n",
      "Predictions on test file........................\n",
      "Done.\n"
     ]
    }
   ],
   "source": [
    "print \"   Training on all data.................\",\n",
    "sys.stdout.flush()\n",
    "model.fit(X_all, Y_all)\n",
    "print \"Done.\"\n",
    "\n",
    "\n",
    "print \"Predictions on test file........................\"\n",
    "sys.stdout.flush()\n",
    "predictTest = model.predict(X_tst)\n",
    "predict_file = pd.DataFrame(columns=['id','category'])\n",
    "predict_file.id= range(X_tst.shape[0])\n",
    "predict_file.category = predictTest\n",
    "\n",
    "\n",
    "predict_file.to_csv('predictions/Y_test_MNAIVE.csv',index=False)\n",
    "print \"Done.\""
   ]
  },
  {
   "cell_type": "code",
   "execution_count": 131,
   "metadata": {
    "collapsed": false
   },
   "outputs": [
    {
     "name": "stdout",
     "output_type": "stream",
     "text": [
      "0.91864 Accuracy on Kaggle DataSet\n"
     ]
    }
   ],
   "source": [
    "print '0.91864 Accuracy on Kaggle DataSet'"
   ]
  },
  {
   "cell_type": "code",
   "execution_count": 60,
   "metadata": {
    "collapsed": false
   },
   "outputs": [],
   "source": [
    "# allY..flatten()\n",
    "trnX= allX[:130000]\n",
    "trnY=allY[:130000].flatten()\n",
    "tstX=allX[130000:]\n",
    "tstY=allY[130000:].flatten()\n"
   ]
  },
  {
   "cell_type": "code",
   "execution_count": 20,
   "metadata": {
    "collapsed": false
   },
   "outputs": [],
   "source": [
    "from sklearn.linear_model import SGDClassifier\n",
    "from sklearn.pipeline import Pipeline\n",
    "import time\n",
    "\n",
    "# parameters = {\n",
    "#     'vect__ngram_range': [(1, 1), (1, 2), (1, 3)],\n",
    "#     'clf__loss': ['hinge'],\n",
    "#     'clf__penalty': ['l2'],\n",
    "#     'clf__n_iter': [20],\n",
    "#     'clf__alpha': [0.00001],\n",
    "#     'clf__fit_intercept': [True]\n",
    "    \n",
    "# }\n",
    "\n",
    "parameters = {\n",
    "    'vect__ngram_range': [(1, 3),(1,4)],\n",
    "    'clf__loss': ['modified_huber'],\n",
    "    'clf__penalty': ['l2'],\n",
    "    'clf__n_iter': [20],\n",
    "    'clf__alpha': [0.00001,1e-06],\n",
    "    'clf__fit_intercept': [True]\n",
    "    \n",
    "}\n",
    "\n",
    "\n",
    "sgd_clf = Pipeline([('vect', CountVectorizer()), ('tfidf', TfidfTransformer(norm=u'l2', use_idf=True, smooth_idf=True,\n",
    "                                                                            sublinear_tf=True)),\n",
    "                     ('clf', SGDClassifier())])\n",
    "# Train the model\n",
    "sgd_clf = GridSearchCV(sgd_clf, parameters)\n",
    "# sgd_clf.fit(trnX,trnY)\n",
    "\n",
    "# print(\"\\nThe best parameter is:\")\n",
    "# print(sgd_clf.best_estimator_)\n",
    "\n",
    "# print(\"\\nGrid scores on Training Set:\")\n",
    "# for params, mean_score, scores in sgd_clf.grid_scores_:\n",
    "#     print \"%0.3f (+/-%0.03f) for %r\"%(mean_score, scores.std() / 2, params)\n",
    "\n",
    "    \n",
    "# print(\"\\nScore for Best Model.\")\n",
    "# print(sgd_clf.best_score_)\n"
   ]
  },
  {
   "cell_type": "code",
   "execution_count": null,
   "metadata": {
    "collapsed": false
   },
   "outputs": [],
   "source": [
    "\n",
    "# The best parameter is:\n",
    "# Pipeline(steps=[('vect', CountVectorizer(analyzer=u'word', binary=False, decode_error=u'strict',\n",
    "#         dtype=<type 'numpy.int64'>, encoding=u'utf-8', input=u'content',\n",
    "#         lowercase=True, max_df=1.0, max_features=None, min_df=1,\n",
    "#         ngram_range=(1, 3), preprocessor=None, stop_words=None,\n",
    "#         st...   penalty='l2', power_t=0.5, random_state=None, shuffle=True,\n",
    "#        verbose=0, warm_start=False))])\n",
    "\n",
    "# Grid scores on Training Set:\n",
    "# 0.919 (+/-0.001) for {'vect__ngram_range': (1, 1), 'clf__n_iter': 10, 'clf__loss': 'hinge', 'clf__fit_intercept'\n",
    "# : True, 'clf__penalty': 'l1', 'clf__alpha': 1e-05}\n",
    "# 0.918 (+/-0.000) for {'vect__ngram_range': (1, 2), 'clf__n_iter': 10, 'clf__loss': 'hinge',\n",
    "# 'clf__fit_intercept': True, 'clf__penalty': 'l1', 'clf__alpha': 1e-05}\n",
    "# 0.909 (+/-0.000) for {'vect__ngram_range': (1, 3), 'clf__n_iter': 10, 'clf__loss': 'hinge', \n",
    "# 'clf__fit_intercept': True, 'clf__penalty': 'l1', 'clf__alpha': 1e-05}\n",
    "# 0.931 (+/-0.001) for {'vect__ngram_range': (1, 1), 'clf__n_iter': 10, 'clf__loss': 'hinge',\n",
    "# 'clf__fit_intercept': True, 'clf__penalty': 'l2', 'clf__alpha': 1e-05}\n",
    "# 0.956 (+/-0.000) for {'vect__ngram_range': (1, 2), 'clf__n_iter': 10,\n",
    "# 'clf__loss': 'hinge', 'clf__fit_intercept': True, 'clf__penalty': 'l2', 'clf__alpha': 1e-05}\n",
    "# 0.958 (+/-0.000) for {'vect__ngram_range': (1, 3), 'clf__n_iter': 10, 'clf__loss': 'hinge', \n",
    "# 'clf__fit_intercept': True, 'clf__penalty': 'l2', 'clf__alpha': 1e-05}\n",
    "# 0.833 (+/-0.001) for {'vect__ngram_range': (1, 1), 'clf__n_iter': 10, 'clf__loss': 'hinge', \n",
    "# 'clf__fit_intercept': True, 'clf__penalty': 'l1', 'clf__alpha': 0.0001}\n",
    "# 0.801 (+/-0.003) for {'vect__ngram_range': (1, 2), 'clf__n_iter': 10, 'clf__loss': 'hinge', \n",
    "# 'clf__fit_intercept': True, 'clf__penalty': 'l1', 'clf__alpha': 0.0001}\n",
    "# 0.775 (+/-0.006) for {'vect__ngram_range': (1, 3), 'clf__n_iter': 10, 'clf__loss': 'hinge', \n",
    "# 'clf__fit_intercept': True, 'clf__penalty': 'l1', 'clf__alpha': 0.0001}\n",
    "# 0.904 (+/-0.001) for {'vect__ngram_range': (1, 1), 'clf__n_iter': 10, 'clf__loss': 'hinge',\n",
    "# 'clf__fit_intercept': True, 'clf__penalty': 'l2', 'clf__alpha': 0.0001}\n",
    "# 0.917 (+/-0.001) for {'vect__ngram_range': (1, 2), 'clf__n_iter': 10, 'clf__loss': 'hinge', \n",
    "# 'clf__fit_intercept': True, 'clf__penalty': 'l2', 'clf__alpha': 0.0001}\n",
    "# 0.922 (+/-0.001) for {'vect__ngram_range': (1, 3), 'clf__n_iter': 10, 'clf__loss': 'hinge',\n",
    "# 'clf__fit_intercept': True, 'clf__penalty': 'l2', 'clf__alpha': 0.0001}\n",
    "\n",
    "# Score for Best Model.\n",
    "# 0.95816969697\n",
    "\n",
    "print '0.96340 Accuracy on Kaggle DataSet'\n",
    "\n",
    "\n",
    "# The best parameter is:\n",
    "# Pipeline(steps=[('vect', CountVectorizer(analyzer=u'word', binary=False, decode_error=u'strict',\n",
    "#         dtype=<type 'numpy.int64'>, encoding=u'utf-8', input=u'content',\n",
    "#         lowercase=True, max_df=1.0, max_features=None, min_df=1,\n",
    "#         ngram_range=(1, 3), preprocessor=None, stop_words=None,\n",
    "#         st...   penalty='l2', power_t=0.5, random_state=None, shuffle=True,\n",
    "#        verbose=0, warm_start=False))])\n",
    "\n",
    "# Grid scores on Training Set:\n",
    "# 0.931 (+/-0.001) for {'vect__ngram_range': (1, 1), 'clf__n_iter': 10, 'clf__loss': 'hinge',\n",
    "# 'clf__fit_intercept': True, 'clf__penalty': 'l2', 'clf__alpha': 1e-05}\n",
    "# 0.955 (+/-0.000) for {'vect__ngram_range': (1, 2), 'clf__n_iter': 10, 'clf__loss': 'hinge', 'clf__fit_intercept': True, 'clf__penalty': 'l2', 'clf__alpha': 1e-05}\n",
    "# 0.958 (+/-0.000) for {'vect__ngram_range': (1, 3), 'clf__n_iter': 10, 'clf__loss': 'hinge', 'clf__fit_intercept': True, 'clf__penalty': 'l2', 'clf__alpha': 1e-05}\n",
    "# 0.931 (+/-0.001) for {'vect__ngram_range': (1, 1), 'clf__n_iter': 20, 'clf__loss': 'hinge', 'clf__fit_intercept': True, 'clf__penalty': 'l2', 'clf__alpha': 1e-05}\n",
    "# 0.956 (+/-0.000) for {'vect__ngram_range': (1, 2), 'clf__n_iter': 20, 'clf__loss': 'hinge', 'clf__fit_intercept': True, 'clf__penalty': 'l2', 'clf__alpha': 1e-05}\n",
    "# 0.958 (+/-0.000) for {'vect__ngram_range': (1, 3), 'clf__n_iter': 20, 'clf__loss': 'hinge', 'clf__fit_intercept': True, 'clf__penalty': 'l2', 'clf__alpha': 1e-05}\n",
    "# 0.904 (+/-0.001) for {'vect__ngram_range': (1, 1), 'clf__n_iter': 10, 'clf__loss': 'hinge', 'clf__fit_intercept': True, 'clf__penalty': 'l2', 'clf__alpha': 0.0001}\n",
    "# 0.917 (+/-0.001) for {'vect__ngram_range': (1, 2), 'clf__n_iter': 10, 'clf__loss': 'hinge', 'clf__fit_intercept': True, 'clf__penalty': 'l2', 'clf__alpha': 0.0001}\n",
    "# 0.922 (+/-0.001) for {'vect__ngram_range': (1, 3), 'clf__n_iter': 10, 'clf__loss': 'hinge', 'clf__fit_intercept': True, 'clf__penalty': 'l2', 'clf__alpha': 0.0001}\n",
    "# 0.904 (+/-0.001) for {'vect__ngram_range': (1, 1), 'clf__n_iter': 20, 'clf__loss': 'hinge', 'clf__fit_intercept': True, 'clf__penalty': 'l2', 'clf__alpha': 0.0001}\n",
    "# 0.917 (+/-0.001) for {'vect__ngram_range': (1, 2), 'clf__n_iter': 20, 'clf__loss': 'hinge', 'clf__fit_intercept': True, 'clf__penalty': 'l2', 'clf__alpha': 0.0001}\n",
    "# 0.922 (+/-0.001) for {'vect__ngram_range': (1, 3), 'clf__n_iter': 20, 'clf__loss': 'hinge', 'clf__fit_intercept': True, 'clf__penalty': 'l2', 'clf__alpha': 0.0001}\n",
    "\n",
    "# Score for Best Model.\n",
    "# 0.958484848485\n",
    "\n",
    "print '0.96377 Accuracy on Kaggle DataSet'\n",
    "\n",
    "\n",
    "# The best parameter is:\n",
    "# Pipeline(steps=[('vect', CountVectorizer(analyzer=u'word', binary=False, decode_error=u'strict',\n",
    "#         dtype=<type 'numpy.int64'>, encoding=u'utf-8', input=u'content',\n",
    "#         lowercase=True, max_df=1.0, max_features=None, min_df=1,\n",
    "#         ngram_range=(1, 3), preprocessor=None, stop_words=None,\n",
    "#         st...   penalty='l2', power_t=0.5, random_state=None, shuffle=True,\n",
    "#        verbose=0, warm_start=False))])\n",
    "\n",
    "# Grid scores on Training Set:\n",
    "# 0.935 (+/-0.001) for {'vect__ngram_range': (1, 1), 'clf__n_iter': 20, 'clf__loss': 'hinge', 'clf__fit_intercept': True, 'clf__penalty': 'l2', 'clf__alpha': 1e-05}\n",
    "# 0.958 (+/-0.000) for {'vect__ngram_range': (1, 2), 'clf__n_iter': 20, 'clf__loss': 'hinge', 'clf__fit_intercept': True, 'clf__penalty': 'l2', 'clf__alpha': 1e-05}\n",
    "# 0.960 (+/-0.000) for {'vect__ngram_range': (1, 3), 'clf__n_iter': 20, 'clf__loss': 'hinge', 'clf__fit_intercept': True, 'clf__penalty': 'l2', 'clf__alpha': 1e-05}\n",
    "\n",
    "# Score for Best Model.\n",
    "# 0.960151515152\n",
    "\n",
    "print '0.96482 Accuracy on Kaggle DataSet'\n",
    "\n",
    "\n",
    "# The best parameter is:\n",
    "# Pipeline(steps=[('vect', CountVectorizer(analyzer=u'word', binary=False, decode_error=u'strict',\n",
    "#         dtype=<type 'numpy.int64'>, encoding=u'utf-8', input=u'content',\n",
    "#         lowercase=True, max_df=1.0, max_features=None, min_df=1,\n",
    "#         ngram_range=(1, 4), preprocessor=None, stop_words=None,\n",
    "#         st...   penalty='l2', power_t=0.5, random_state=None, shuffle=True,\n",
    "#        verbose=0, warm_start=False))])\n",
    "\n",
    "# Grid scores on Training Set:\n",
    "# 0.960 (+/-0.000) for {'vect__ngram_range': (1, 3), 'clf__n_iter': 20, \n",
    "# 'clf__loss': 'modified_huber', 'clf__fit_intercept': True, 'clf__penalty': 'l2', 'clf__alpha': 1e-05}\n",
    "# 0.960 (+/-0.000) for {'vect__ngram_range': (1, 4), 'clf__n_iter': 20, \n",
    "# 'clf__loss': 'modified_huber', 'clf__fit_intercept': True, 'clf__penalty': 'l2', 'clf__alpha': 1e-05}\n",
    "# 0.963 (+/-0.000) for {'vect__ngram_range': (1, 3), 'clf__n_iter': 20, \n",
    "# 'clf__loss': 'modified_huber', 'clf__fit_intercept': True, 'clf__penalty': 'l2', 'clf__alpha': 1e-06}\n",
    "# 0.964 (+/-0.000) for {'vect__ngram_range': (1, 4), 'clf__n_iter': 20, \n",
    "# 'clf__loss': 'modified_huber', 'clf__fit_intercept': True, 'clf__penalty': 'l2', 'clf__alpha': 1e-06}\n",
    "\n",
    "# Score for Best Model.\n",
    "# 0.963987878788\n",
    "\n",
    "print '0.97133  Accuracy on Kaggle DataSet'"
   ]
  },
  {
   "cell_type": "code",
   "execution_count": 63,
   "metadata": {
    "collapsed": false
   },
   "outputs": [
    {
     "name": "stdout",
     "output_type": "stream",
     "text": [
      "Testing on validation Set...........\n",
      "   Validation set accuracy: \n",
      "Accuracy 33807 / 35000 = 0.9659\n",
      "\n",
      " Confusion Matrix:\n",
      "[[4323    8   15    6   18    3   30    5]\n",
      " [   3 4737    4   14    1    1    3    7]\n",
      " [  31    9 3792    6   26    2   13    3]\n",
      " [   4   29    4 4043   18  171    4  180]\n",
      " [  15   10   27    9 4216    1   11    0]\n",
      " [   0    5    2  186    1 3848    4   55]\n",
      " [  22   10    7    4   14    1 4503   19]\n",
      " [   0   11    0   94    1   50   16 4345]]\n",
      "\n",
      "Clasification report:\n",
      "             precision    recall  f1-score   support\n",
      "\n",
      "        nfl       0.98      0.98      0.98      4408\n",
      "     movies       0.98      0.99      0.99      4770\n",
      "     hockey       0.98      0.98      0.98      3882\n",
      "       news       0.93      0.91      0.92      4453\n",
      "  worldnews       0.98      0.98      0.98      4289\n",
      "   politics       0.94      0.94      0.94      4101\n",
      "        nba       0.98      0.98      0.98      4580\n",
      "     soccer       0.94      0.96      0.95      4517\n",
      "\n",
      "avg / total       0.97      0.97      0.97     35000\n",
      "\n"
     ]
    },
    {
     "data": {
      "image/png": "[encoded data removed]",
      "text/plain": [
       "<matplotlib.figure.Figure at 0x7ff89722c490>"
      ]
     },
     "metadata": {},
     "output_type": "display_data"
    }
   ],
   "source": [
    "# SGD using given best parameters\n",
    "\n",
    "\n",
    "print \"Testing on validation Set...........\"\n",
    "\n",
    "expected = tstY\n",
    "predicted = sgd_clf.predict(tstX)\n",
    "print \"   Validation set accuracy: \"\n",
    "accuracy(expected,predicted)\n",
    "con_class_matrix(expected,predicted)\n"
   ]
  },
  {
   "cell_type": "code",
   "execution_count": 34,
   "metadata": {
    "collapsed": false
   },
   "outputs": [
    {
     "name": "stdout",
     "output_type": "stream",
     "text": [
      "Predictions on test file........................\n",
      "Done.\n"
     ]
    }
   ],
   "source": [
    "print \"Predictions on test file........................\"\n",
    "sys.stdout.flush()\n",
    "\n",
    "predictTest = sgd_clf.predict(testX)\n",
    "predict_file = pd.DataFrame(columns=['id','category'])\n",
    "predict_file.id= range(testX.shape[0])\n",
    "predict_file.category = predictTest\n",
    "\n",
    "\n",
    "predict_file.to_csv('predictions/Y_test_SGD4.csv',index=False)\n",
    "print \"Done.\"\n",
    "        "
   ]
  },
  {
   "cell_type": "code",
   "execution_count": 21,
   "metadata": {
    "collapsed": false
   },
   "outputs": [
    {
     "name": "stdout",
     "output_type": "stream",
     "text": [
      "   Building ensemble.................... 0.92976359324\n"
     ]
    }
   ],
   "source": [
    "from sklearn.ensemble import BaggingClassifier\n",
    "# from sklearn.cross_validation import KFold \n",
    "\n",
    "# clf__loss': ['modified_huber'],\n",
    "#     'clf__penalty': ['l2'],\n",
    "#     'clf__n_iter': [20],\n",
    "#     'clf__alpha': [0.00001,1e-06],\n",
    "#     'clf__fit_intercept': [True]\n",
    "        \n",
    "sgd =  SGDClassifier(penalty='l2',n_iter=20,alpha=1e-06,fit_intercept=True,loss='modified_huber')\n",
    "print \"   Building ensemble....................\",\n",
    "sys.stdout.flush()\n",
    "n_estimators = 100\n",
    "seed = 7\n",
    "\n",
    "\n",
    "# kfold = KFold(n_splits=10, random_state=seed)\n",
    "model = BaggingClassifier(sgd, n_estimators=n_estimators,\n",
    "                          bootstrap = True, n_jobs=-1, random_state=seed)\n",
    "score = cross_val_score(model, X_all, Y_all, cv=5)\n",
    "print score.mean()"
   ]
  },
  {
   "cell_type": "code",
   "execution_count": null,
   "metadata": {
    "collapsed": false
   },
   "outputs": [],
   "source": [
    "# Trying Adaboost\n",
    "\n",
    "from sklearn.pipeline import Pipeline\n",
    "from sklearn.ensemble import RandomForestClassifier, AdaBoostClassifier\n",
    "\n",
    "AdaBoost_clf = Pipeline([('vect', CountVectorizer()), ('tfidf', TfidfTransformer()),\n",
    "                     ('clf', AdaBoostClassifier())])\n",
    "\n",
    "# parameters = {}\n",
    "parameters = {\n",
    "    'vect__ngram_range': [(1, 3),(1,4)],\n",
    "    'clf__n_estimators': [20,10],\n",
    "#     'clf__penalty': ['l2'],\n",
    "    'clf__learning_rate': [1,0.001,0.0001],\n",
    "    'clf__algorithm' : ['SAMME', 'SAMME.R']\n",
    "}\n",
    "\n",
    "AdaBoost_clf = GridSearchCV(AdaBoost_clf, parameters)\n",
    "AdaBoost_clf.fit(allX,allY.flatten())\n",
    "\n",
    "print(\"\\nThe best parameter is:\")\n",
    "print(AdaBoost_clf.best_estimator_)\n",
    "\n",
    "print(\"\\nGrid scores on train set:\")\n",
    "for params, mean_score, scores in AdaBoost_clf.grid_scores_:\n",
    "    print \"%0.3f (+/-%0.03f) for %r\"%(mean_score, scores.std() / 2, params)\n",
    "    \n",
    "    \n",
    "print(\"\\nThe accuracy for the best model.\")\n",
    "print(AdaBoost_clf.best_score_)\n"
   ]
  },
  {
   "cell_type": "code",
   "execution_count": null,
   "metadata": {
    "collapsed": false
   },
   "outputs": [],
   "source": []
  },
  {
   "cell_type": "code",
   "execution_count": null,
   "metadata": {
    "collapsed": false
   },
   "outputs": [],
   "source": []
  },
  {
   "cell_type": "code",
   "execution_count": null,
   "metadata": {
    "collapsed": true
   },
   "outputs": [],
   "source": []
  }
 ],
 "metadata": {
  "kernelspec": {
   "display_name": "Python 2",
   "language": "python",
   "name": "python2"
  },
  "language_info": {
   "codemirror_mode": {
    "name": "ipython",
    "version": 2
   },
   "file_extension": ".py",
   "mimetype": "text/x-python",
   "name": "python",
   "nbconvert_exporter": "python",
   "pygments_lexer": "ipython2",
   "version": "2.7.12"
  }
 },
 "nbformat": 4,
 "nbformat_minor": 1
}
